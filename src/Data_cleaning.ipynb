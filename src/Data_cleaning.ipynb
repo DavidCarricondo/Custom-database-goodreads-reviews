{
 "cells": [
  {
   "cell_type": "markdown",
   "metadata": {},
   "source": [
    "# Cleaning data "
   ]
  },
  {
   "cell_type": "code",
   "execution_count": 21,
   "metadata": {},
   "outputs": [
    {
     "name": "stdout",
     "output_type": "stream",
     "text": [
      "Defaulting to user installation because normal site-packages is not writeable\n",
      "Collecting langdetect\n",
      "  Downloading langdetect-1.0.8.tar.gz (981 kB)\n",
      "\u001b[K     |████████████████████████████████| 981 kB 2.8 MB/s \n",
      "\u001b[?25hRequirement already satisfied: six in /home/david/.local/lib/python3.6/site-packages (from langdetect) (1.14.0)\n",
      "Building wheels for collected packages: langdetect\n",
      "  Building wheel for langdetect (setup.py) ... \u001b[?25ldone\n",
      "\u001b[?25h  Created wheel for langdetect: filename=langdetect-1.0.8-py3-none-any.whl size=994442 sha256=b5c316517a24eba4818bd5065d0303555f701d6feb68d7043853323591a4e9bf\n",
      "  Stored in directory: /home/david/.cache/pip/wheels/53/88/5d/b239dc55d773b01fdd2059606b1a8f4b64548848b8f6e381c3\n",
      "Successfully built langdetect\n",
      "Installing collected packages: langdetect\n",
      "Successfully installed langdetect-1.0.8\n"
     ]
    }
   ],
   "source": [
    "!pip3 install langdetect"
   ]
  },
  {
   "cell_type": "code",
   "execution_count": 30,
   "metadata": {},
   "outputs": [],
   "source": [
    "import pandas as pd\n",
    "import json\n",
    "import matplotlib.pyplot as plt\n",
    "import seaborn as sn\n",
    "from langdetect import detect, detect_langs"
   ]
  },
  {
   "cell_type": "code",
   "execution_count": 4,
   "metadata": {},
   "outputs": [],
   "source": [
    "with open('../DATA/goodread_reviews_dataset.json', 'r') as f:\n",
    "    data = json.load(f)"
   ]
  },
  {
   "cell_type": "code",
   "execution_count": 5,
   "metadata": {},
   "outputs": [
    {
     "name": "stdout",
     "output_type": "stream",
     "text": [
      "27972\n"
     ]
    },
    {
     "data": {
      "text/html": [
       "<div>\n",
       "<style scoped>\n",
       "    .dataframe tbody tr th:only-of-type {\n",
       "        vertical-align: middle;\n",
       "    }\n",
       "\n",
       "    .dataframe tbody tr th {\n",
       "        vertical-align: top;\n",
       "    }\n",
       "\n",
       "    .dataframe thead th {\n",
       "        text-align: right;\n",
       "    }\n",
       "</style>\n",
       "<table border=\"1\" class=\"dataframe\">\n",
       "  <thead>\n",
       "    <tr style=\"text-align: right;\">\n",
       "      <th></th>\n",
       "      <th>review</th>\n",
       "      <th>grade</th>\n",
       "    </tr>\n",
       "  </thead>\n",
       "  <tbody>\n",
       "    <tr>\n",
       "      <th>0</th>\n",
       "      <td></td>\n",
       "      <td>liked it</td>\n",
       "    </tr>\n",
       "    <tr>\n",
       "      <th>1</th>\n",
       "      <td>Thought provoking.Life shattering.Gut wrenchin...</td>\n",
       "      <td>it was amazing</td>\n",
       "    </tr>\n",
       "    <tr>\n",
       "      <th>2</th>\n",
       "      <td>I finally finished reading this book. Finally ...</td>\n",
       "      <td>did not like it</td>\n",
       "    </tr>\n",
       "    <tr>\n",
       "      <th>3</th>\n",
       "      <td>Never Let Me Go, Kazuo Ishiguro's Examination ...</td>\n",
       "      <td>it was amazing</td>\n",
       "    </tr>\n",
       "    <tr>\n",
       "      <th>4</th>\n",
       "      <td>Never Let Me Go by Kazuo Ishiguro is an intere...</td>\n",
       "      <td>it was ok</td>\n",
       "    </tr>\n",
       "  </tbody>\n",
       "</table>\n",
       "</div>"
      ],
      "text/plain": [
       "                                              review            grade\n",
       "0                                                            liked it\n",
       "1  Thought provoking.Life shattering.Gut wrenchin...   it was amazing\n",
       "2  I finally finished reading this book. Finally ...  did not like it\n",
       "3  Never Let Me Go, Kazuo Ishiguro's Examination ...   it was amazing\n",
       "4  Never Let Me Go by Kazuo Ishiguro is an intere...        it was ok"
      ]
     },
     "execution_count": 5,
     "metadata": {},
     "output_type": "execute_result"
    }
   ],
   "source": [
    "df = pd.DataFrame(data).T\n",
    "print(len(df))\n",
    "df.head()"
   ]
  },
  {
   "cell_type": "markdown",
   "metadata": {},
   "source": [
    "### How many are empty reviews?"
   ]
  },
  {
   "cell_type": "code",
   "execution_count": 6,
   "metadata": {},
   "outputs": [
    {
     "data": {
      "text/plain": [
       "1413"
      ]
     },
     "execution_count": 6,
     "metadata": {},
     "output_type": "execute_result"
    }
   ],
   "source": [
    "df.review[df.review==''].count()"
   ]
  },
  {
   "cell_type": "code",
   "execution_count": 7,
   "metadata": {},
   "outputs": [],
   "source": [
    "df = df.drop(df[df['review']==''].index)"
   ]
  },
  {
   "cell_type": "markdown",
   "metadata": {},
   "source": [
    "### Reviews that are not in english"
   ]
  },
  {
   "cell_type": "code",
   "execution_count": 8,
   "metadata": {},
   "outputs": [],
   "source": [
    "def lang(text):\n",
    "    try:\n",
    "        lan = detect(text)\n",
    "        return lan\n",
    "    except:\n",
    "        return None\n",
    "    \n",
    "    \n",
    "df['lang'] = df.review.apply(lang)"
   ]
  },
  {
   "cell_type": "code",
   "execution_count": 9,
   "metadata": {},
   "outputs": [],
   "source": [
    "df_clean = df[df['lang']=='en']"
   ]
  },
  {
   "cell_type": "code",
   "execution_count": 10,
   "metadata": {},
   "outputs": [
    {
     "name": "stdout",
     "output_type": "stream",
     "text": [
      "25680\n"
     ]
    },
    {
     "data": {
      "text/html": [
       "<div>\n",
       "<style scoped>\n",
       "    .dataframe tbody tr th:only-of-type {\n",
       "        vertical-align: middle;\n",
       "    }\n",
       "\n",
       "    .dataframe tbody tr th {\n",
       "        vertical-align: top;\n",
       "    }\n",
       "\n",
       "    .dataframe thead th {\n",
       "        text-align: right;\n",
       "    }\n",
       "</style>\n",
       "<table border=\"1\" class=\"dataframe\">\n",
       "  <thead>\n",
       "    <tr style=\"text-align: right;\">\n",
       "      <th></th>\n",
       "      <th>review</th>\n",
       "      <th>grade</th>\n",
       "      <th>lang</th>\n",
       "    </tr>\n",
       "  </thead>\n",
       "  <tbody>\n",
       "    <tr>\n",
       "      <th>1</th>\n",
       "      <td>Thought provoking.Life shattering.Gut wrenchin...</td>\n",
       "      <td>it was amazing</td>\n",
       "      <td>en</td>\n",
       "    </tr>\n",
       "    <tr>\n",
       "      <th>2</th>\n",
       "      <td>I finally finished reading this book. Finally ...</td>\n",
       "      <td>did not like it</td>\n",
       "      <td>en</td>\n",
       "    </tr>\n",
       "    <tr>\n",
       "      <th>3</th>\n",
       "      <td>Never Let Me Go, Kazuo Ishiguro's Examination ...</td>\n",
       "      <td>it was amazing</td>\n",
       "      <td>en</td>\n",
       "    </tr>\n",
       "    <tr>\n",
       "      <th>4</th>\n",
       "      <td>Never Let Me Go by Kazuo Ishiguro is an intere...</td>\n",
       "      <td>it was ok</td>\n",
       "      <td>en</td>\n",
       "    </tr>\n",
       "    <tr>\n",
       "      <th>5</th>\n",
       "      <td>Know when to hold them and know when to fold t...</td>\n",
       "      <td>did not like it</td>\n",
       "      <td>en</td>\n",
       "    </tr>\n",
       "  </tbody>\n",
       "</table>\n",
       "</div>"
      ],
      "text/plain": [
       "                                              review            grade lang\n",
       "1  Thought provoking.Life shattering.Gut wrenchin...   it was amazing   en\n",
       "2  I finally finished reading this book. Finally ...  did not like it   en\n",
       "3  Never Let Me Go, Kazuo Ishiguro's Examination ...   it was amazing   en\n",
       "4  Never Let Me Go by Kazuo Ishiguro is an intere...        it was ok   en\n",
       "5  Know when to hold them and know when to fold t...  did not like it   en"
      ]
     },
     "execution_count": 10,
     "metadata": {},
     "output_type": "execute_result"
    }
   ],
   "source": [
    "print(len(df_clean))\n",
    "df_clean.head()"
   ]
  },
  {
   "cell_type": "code",
   "execution_count": 11,
   "metadata": {},
   "outputs": [
    {
     "name": "stderr",
     "output_type": "stream",
     "text": [
      "/home/david/.local/lib/python3.6/site-packages/ipykernel_launcher.py:4: SettingWithCopyWarning: \n",
      "A value is trying to be set on a copy of a slice from a DataFrame.\n",
      "Try using .loc[row_indexer,col_indexer] = value instead\n",
      "\n",
      "See the caveats in the documentation: https://pandas.pydata.org/pandas-docs/stable/user_guide/indexing.html#returning-a-view-versus-a-copy\n",
      "  after removing the cwd from sys.path.\n"
     ]
    }
   ],
   "source": [
    "def get_score(grade):\n",
    "    d = {'it was amazing':4, 'really liked it':3, 'liked it':2, 'it was ok':1, 'did not like it':0}\n",
    "    return d[grade]\n",
    "df_clean['score'] = df_clean.grade.apply(get_score)    "
   ]
  },
  {
   "cell_type": "code",
   "execution_count": 12,
   "metadata": {},
   "outputs": [
    {
     "data": {
      "text/plain": [
       "<matplotlib.axes._subplots.AxesSubplot at 0x7f6fe04adeb8>"
      ]
     },
     "execution_count": 12,
     "metadata": {},
     "output_type": "execute_result"
    },
    {
     "data": {
      "image/png": "[encoded data removed]",
      "text/plain": [
       "<Figure size 432x288 with 1 Axes>"
      ]
     },
     "metadata": {
      "needs_background": "light"
     },
     "output_type": "display_data"
    }
   ],
   "source": [
    "sn.countplot(df_clean.score)"
   ]
  },
  {
   "cell_type": "markdown",
   "metadata": {},
   "source": [
    "Classes are very biased. Let's group them in two versions, one trying to get a good number of observations, a second one trying to get really polarized data (on spite of reducing the data by quite a lot):"
   ]
  },
  {
   "cell_type": "code",
   "execution_count": 26,
   "metadata": {},
   "outputs": [
    {
     "name": "stderr",
     "output_type": "stream",
     "text": [
      "/home/david/.local/lib/python3.6/site-packages/ipykernel_launcher.py:18: SettingWithCopyWarning: \n",
      "A value is trying to be set on a copy of a slice from a DataFrame.\n",
      "Try using .loc[row_indexer,col_indexer] = value instead\n",
      "\n",
      "See the caveats in the documentation: https://pandas.pydata.org/pandas-docs/stable/user_guide/indexing.html#returning-a-view-versus-a-copy\n",
      "/home/david/.local/lib/python3.6/site-packages/ipykernel_launcher.py:19: SettingWithCopyWarning: \n",
      "A value is trying to be set on a copy of a slice from a DataFrame.\n",
      "Try using .loc[row_indexer,col_indexer] = value instead\n",
      "\n",
      "See the caveats in the documentation: https://pandas.pydata.org/pandas-docs/stable/user_guide/indexing.html#returning-a-view-versus-a-copy\n"
     ]
    }
   ],
   "source": [
    "def get_sentiment(score):\n",
    "    if score <= 1:\n",
    "        return -1\n",
    "    elif score==2:\n",
    "        return 0\n",
    "    else:\n",
    "        return 1\n",
    "    \n",
    "def get_sentiment_polar(score):\n",
    "    if score == 0:\n",
    "        return -1\n",
    "    elif score==2:\n",
    "        return 0\n",
    "    elif score==4:\n",
    "        return 1\n",
    "    else: score==None\n",
    "    \n",
    "df_clean['sentiment'] = df_clean.score.apply(get_sentiment)\n",
    "df_clean['sentiment_polar'] = df_clean.score.apply(get_sentiment_polar)"
   ]
  },
  {
   "cell_type": "code",
   "execution_count": 36,
   "metadata": {},
   "outputs": [
    {
     "data": {
      "text/plain": [
       "<matplotlib.axes._subplots.AxesSubplot at 0x7f6fdbf259e8>"
      ]
     },
     "execution_count": 36,
     "metadata": {},
     "output_type": "execute_result"
    },
    {
     "data": {
      "image/png": "[encoded data removed]",
      "text/plain": [
       "<Figure size 720x288 with 2 Axes>"
      ]
     },
     "metadata": {
      "needs_background": "light"
     },
     "output_type": "display_data"
    }
   ],
   "source": [
    "f, axes = plt.subplots(1, 2, figsize=(10,4))\n",
    "sn.countplot(df_clean.sentiment, ax=axes[0])\n",
    "sn.countplot(df_clean.sentiment_polar, ax=axes[1])"
   ]
  },
  {
   "cell_type": "markdown",
   "metadata": {},
   "source": [
    "They are still very biased. So let's subset the data with all the negative and neutral reviews and a balance random sample of positive reviews. First for the not polarized one:"
   ]
  },
  {
   "cell_type": "code",
   "execution_count": 38,
   "metadata": {},
   "outputs": [
    {
     "name": "stdout",
     "output_type": "stream",
     "text": [
      "3939 negative reviews\n",
      "4882 neutral reviews\n",
      "16859 positive reviews\n"
     ]
    }
   ],
   "source": [
    "print(len(df_clean[df_clean['sentiment']==-1]), 'negative reviews')\n",
    "print(len(df_clean[df_clean['sentiment']==0]), 'neutral reviews')\n",
    "print(len(df_clean[df_clean['sentiment']==1]), 'positive reviews')"
   ]
  },
  {
   "cell_type": "code",
   "execution_count": 48,
   "metadata": {},
   "outputs": [],
   "source": [
    "positive = df_clean[df_clean['sentiment']==1].sample(4800)\n",
    "negative_neutral = df_clean[df_clean['sentiment']!=1]"
   ]
  },
  {
   "cell_type": "code",
   "execution_count": 49,
   "metadata": {},
   "outputs": [],
   "source": [
    "df_clean_balance = pd.concat([positive, negative_neutral])"
   ]
  },
  {
   "cell_type": "code",
   "execution_count": 50,
   "metadata": {},
   "outputs": [
    {
     "name": "stdout",
     "output_type": "stream",
     "text": [
      "13621\n"
     ]
    },
    {
     "data": {
      "text/html": [
       "<div>\n",
       "<style scoped>\n",
       "    .dataframe tbody tr th:only-of-type {\n",
       "        vertical-align: middle;\n",
       "    }\n",
       "\n",
       "    .dataframe tbody tr th {\n",
       "        vertical-align: top;\n",
       "    }\n",
       "\n",
       "    .dataframe thead th {\n",
       "        text-align: right;\n",
       "    }\n",
       "</style>\n",
       "<table border=\"1\" class=\"dataframe\">\n",
       "  <thead>\n",
       "    <tr style=\"text-align: right;\">\n",
       "      <th></th>\n",
       "      <th>review</th>\n",
       "      <th>grade</th>\n",
       "      <th>lang</th>\n",
       "      <th>score</th>\n",
       "      <th>sentiment</th>\n",
       "      <th>sentiment_polar</th>\n",
       "    </tr>\n",
       "  </thead>\n",
       "  <tbody>\n",
       "    <tr>\n",
       "      <th>9821</th>\n",
       "      <td>Well, he may not be scared but call me utterly...</td>\n",
       "      <td>really liked it</td>\n",
       "      <td>en</td>\n",
       "      <td>3</td>\n",
       "      <td>1</td>\n",
       "      <td>NaN</td>\n",
       "    </tr>\n",
       "    <tr>\n",
       "      <th>16973</th>\n",
       "      <td>This is a five-star book, to be sure.My rating...</td>\n",
       "      <td>really liked it</td>\n",
       "      <td>en</td>\n",
       "      <td>3</td>\n",
       "      <td>1</td>\n",
       "      <td>NaN</td>\n",
       "    </tr>\n",
       "    <tr>\n",
       "      <th>20007</th>\n",
       "      <td>Terrific psychological thriller debut by this ...</td>\n",
       "      <td>really liked it</td>\n",
       "      <td>en</td>\n",
       "      <td>3</td>\n",
       "      <td>1</td>\n",
       "      <td>NaN</td>\n",
       "    </tr>\n",
       "    <tr>\n",
       "      <th>19703</th>\n",
       "      <td>Margaret Atwood is the Dystopian Queen 👑 and s...</td>\n",
       "      <td>it was amazing</td>\n",
       "      <td>en</td>\n",
       "      <td>4</td>\n",
       "      <td>1</td>\n",
       "      <td>1.0</td>\n",
       "    </tr>\n",
       "    <tr>\n",
       "      <th>23307</th>\n",
       "      <td>Protagonist Quoyle is a kind man born into an ...</td>\n",
       "      <td>really liked it</td>\n",
       "      <td>en</td>\n",
       "      <td>3</td>\n",
       "      <td>1</td>\n",
       "      <td>NaN</td>\n",
       "    </tr>\n",
       "    <tr>\n",
       "      <th>...</th>\n",
       "      <td>...</td>\n",
       "      <td>...</td>\n",
       "      <td>...</td>\n",
       "      <td>...</td>\n",
       "      <td>...</td>\n",
       "      <td>...</td>\n",
       "    </tr>\n",
       "    <tr>\n",
       "      <th>27962</th>\n",
       "      <td>Extremely well written, solid story, solid nar...</td>\n",
       "      <td>liked it</td>\n",
       "      <td>en</td>\n",
       "      <td>2</td>\n",
       "      <td>0</td>\n",
       "      <td>0.0</td>\n",
       "    </tr>\n",
       "    <tr>\n",
       "      <th>27965</th>\n",
       "      <td>Hippies traipsing around Morocco with no money...</td>\n",
       "      <td>liked it</td>\n",
       "      <td>en</td>\n",
       "      <td>2</td>\n",
       "      <td>0</td>\n",
       "      <td>0.0</td>\n",
       "    </tr>\n",
       "    <tr>\n",
       "      <th>27966</th>\n",
       "      <td>A pleasurable read - sweet and atmospheric. 3....</td>\n",
       "      <td>liked it</td>\n",
       "      <td>en</td>\n",
       "      <td>2</td>\n",
       "      <td>0</td>\n",
       "      <td>0.0</td>\n",
       "    </tr>\n",
       "    <tr>\n",
       "      <th>27967</th>\n",
       "      <td>It's so boring, the reviews said that it's so ...</td>\n",
       "      <td>did not like it</td>\n",
       "      <td>en</td>\n",
       "      <td>0</td>\n",
       "      <td>-1</td>\n",
       "      <td>-1.0</td>\n",
       "    </tr>\n",
       "    <tr>\n",
       "      <th>27971</th>\n",
       "      <td>Were you also taken by the title of this post?...</td>\n",
       "      <td>liked it</td>\n",
       "      <td>en</td>\n",
       "      <td>2</td>\n",
       "      <td>0</td>\n",
       "      <td>0.0</td>\n",
       "    </tr>\n",
       "  </tbody>\n",
       "</table>\n",
       "<p>13621 rows × 6 columns</p>\n",
       "</div>"
      ],
      "text/plain": [
       "                                                  review            grade  \\\n",
       "9821   Well, he may not be scared but call me utterly...  really liked it   \n",
       "16973  This is a five-star book, to be sure.My rating...  really liked it   \n",
       "20007  Terrific psychological thriller debut by this ...  really liked it   \n",
       "19703  Margaret Atwood is the Dystopian Queen 👑 and s...   it was amazing   \n",
       "23307  Protagonist Quoyle is a kind man born into an ...  really liked it   \n",
       "...                                                  ...              ...   \n",
       "27962  Extremely well written, solid story, solid nar...         liked it   \n",
       "27965  Hippies traipsing around Morocco with no money...         liked it   \n",
       "27966  A pleasurable read - sweet and atmospheric. 3....         liked it   \n",
       "27967  It's so boring, the reviews said that it's so ...  did not like it   \n",
       "27971  Were you also taken by the title of this post?...         liked it   \n",
       "\n",
       "      lang  score  sentiment  sentiment_polar  \n",
       "9821    en      3          1              NaN  \n",
       "16973   en      3          1              NaN  \n",
       "20007   en      3          1              NaN  \n",
       "19703   en      4          1              1.0  \n",
       "23307   en      3          1              NaN  \n",
       "...    ...    ...        ...              ...  \n",
       "27962   en      2          0              0.0  \n",
       "27965   en      2          0              0.0  \n",
       "27966   en      2          0              0.0  \n",
       "27967   en      0         -1             -1.0  \n",
       "27971   en      2          0              0.0  \n",
       "\n",
       "[13621 rows x 6 columns]"
      ]
     },
     "execution_count": 50,
     "metadata": {},
     "output_type": "execute_result"
    }
   ],
   "source": [
    "print(len(df_clean_balance))\n",
    "df_clean_balance"
   ]
  },
  {
   "cell_type": "code",
   "execution_count": 51,
   "metadata": {},
   "outputs": [
    {
     "data": {
      "text/plain": [
       "<matplotlib.axes._subplots.AxesSubplot at 0x7f6fdc358dd8>"
      ]
     },
     "execution_count": 51,
     "metadata": {},
     "output_type": "execute_result"
    },
    {
     "data": {
      "image/png": "[encoded data removed]",
      "text/plain": [
       "<Figure size 432x288 with 1 Axes>"
      ]
     },
     "metadata": {
      "needs_background": "light"
     },
     "output_type": "display_data"
    }
   ],
   "source": [
    "sn.countplot(df_clean_balance.sentiment)"
   ]
  },
  {
   "cell_type": "code",
   "execution_count": 44,
   "metadata": {},
   "outputs": [],
   "source": [
    "df_clean_balance.to_csv('../DATA/goodreads_reviews_clean.csv', index=False)"
   ]
  },
  {
   "cell_type": "markdown",
   "metadata": {},
   "source": [
    "Then for the polarized data:"
   ]
  },
  {
   "cell_type": "code",
   "execution_count": 45,
   "metadata": {},
   "outputs": [
    {
     "name": "stdout",
     "output_type": "stream",
     "text": [
      "1547 negative reviews\n",
      "4882 neutral reviews\n",
      "8374 positive reviews\n"
     ]
    }
   ],
   "source": [
    "print(len(df_clean[df_clean['sentiment_polar']==-1]), 'negative reviews')\n",
    "print(len(df_clean[df_clean['sentiment_polar']==0]), 'neutral reviews')\n",
    "print(len(df_clean[df_clean['sentiment_polar']==1]), 'positive reviews')"
   ]
  },
  {
   "cell_type": "code",
   "execution_count": 52,
   "metadata": {},
   "outputs": [],
   "source": [
    "positive_plr = df_clean[df_clean['sentiment_polar']==1].sample(2000)\n",
    "neutral_plr = df_clean[df_clean['sentiment_polar']==0].sample(2000)\n",
    "negative_plr = df_clean[df_clean['sentiment_polar']==-1]"
   ]
  },
  {
   "cell_type": "code",
   "execution_count": 53,
   "metadata": {},
   "outputs": [],
   "source": [
    "df_clean_balance_plr = pd.concat([positive_plr, negative_plr, neutral_plr])"
   ]
  },
  {
   "cell_type": "code",
   "execution_count": 55,
   "metadata": {},
   "outputs": [
    {
     "name": "stdout",
     "output_type": "stream",
     "text": [
      "5547\n"
     ]
    },
    {
     "data": {
      "text/html": [
       "<div>\n",
       "<style scoped>\n",
       "    .dataframe tbody tr th:only-of-type {\n",
       "        vertical-align: middle;\n",
       "    }\n",
       "\n",
       "    .dataframe tbody tr th {\n",
       "        vertical-align: top;\n",
       "    }\n",
       "\n",
       "    .dataframe thead th {\n",
       "        text-align: right;\n",
       "    }\n",
       "</style>\n",
       "<table border=\"1\" class=\"dataframe\">\n",
       "  <thead>\n",
       "    <tr style=\"text-align: right;\">\n",
       "      <th></th>\n",
       "      <th>review</th>\n",
       "      <th>grade</th>\n",
       "      <th>lang</th>\n",
       "      <th>score</th>\n",
       "      <th>sentiment</th>\n",
       "      <th>sentiment_polar</th>\n",
       "    </tr>\n",
       "  </thead>\n",
       "  <tbody>\n",
       "    <tr>\n",
       "      <th>5287</th>\n",
       "      <td>I consider this book to be truly wonderful. My...</td>\n",
       "      <td>it was amazing</td>\n",
       "      <td>en</td>\n",
       "      <td>4</td>\n",
       "      <td>1</td>\n",
       "      <td>1.0</td>\n",
       "    </tr>\n",
       "    <tr>\n",
       "      <th>15116</th>\n",
       "      <td>One of the hardest books for me to read, but v...</td>\n",
       "      <td>it was amazing</td>\n",
       "      <td>en</td>\n",
       "      <td>4</td>\n",
       "      <td>1</td>\n",
       "      <td>1.0</td>\n",
       "    </tr>\n",
       "    <tr>\n",
       "      <th>4975</th>\n",
       "      <td>Newsflash: I have a new entry into my Top Ten ...</td>\n",
       "      <td>it was amazing</td>\n",
       "      <td>en</td>\n",
       "      <td>4</td>\n",
       "      <td>1</td>\n",
       "      <td>1.0</td>\n",
       "    </tr>\n",
       "    <tr>\n",
       "      <th>26201</th>\n",
       "      <td>Read years ago, but still remember this powerf...</td>\n",
       "      <td>it was amazing</td>\n",
       "      <td>en</td>\n",
       "      <td>4</td>\n",
       "      <td>1</td>\n",
       "      <td>1.0</td>\n",
       "    </tr>\n",
       "    <tr>\n",
       "      <th>23605</th>\n",
       "      <td>I first read Trainspotting when I was in colle...</td>\n",
       "      <td>it was amazing</td>\n",
       "      <td>en</td>\n",
       "      <td>4</td>\n",
       "      <td>1</td>\n",
       "      <td>1.0</td>\n",
       "    </tr>\n",
       "    <tr>\n",
       "      <th>...</th>\n",
       "      <td>...</td>\n",
       "      <td>...</td>\n",
       "      <td>...</td>\n",
       "      <td>...</td>\n",
       "      <td>...</td>\n",
       "      <td>...</td>\n",
       "    </tr>\n",
       "    <tr>\n",
       "      <th>3722</th>\n",
       "      <td>Great easy quick read, liked it a lot.Ackroyd ...</td>\n",
       "      <td>liked it</td>\n",
       "      <td>en</td>\n",
       "      <td>2</td>\n",
       "      <td>0</td>\n",
       "      <td>0.0</td>\n",
       "    </tr>\n",
       "    <tr>\n",
       "      <th>25376</th>\n",
       "      <td>If I had not read Sebald's later inestimable m...</td>\n",
       "      <td>liked it</td>\n",
       "      <td>en</td>\n",
       "      <td>2</td>\n",
       "      <td>0</td>\n",
       "      <td>0.0</td>\n",
       "    </tr>\n",
       "    <tr>\n",
       "      <th>8478</th>\n",
       "      <td>Do not read the Introduction before reading th...</td>\n",
       "      <td>liked it</td>\n",
       "      <td>en</td>\n",
       "      <td>2</td>\n",
       "      <td>0</td>\n",
       "      <td>0.0</td>\n",
       "    </tr>\n",
       "    <tr>\n",
       "      <th>16734</th>\n",
       "      <td>Like his previous book \"The Peron Novel\", quit...</td>\n",
       "      <td>liked it</td>\n",
       "      <td>en</td>\n",
       "      <td>2</td>\n",
       "      <td>0</td>\n",
       "      <td>0.0</td>\n",
       "    </tr>\n",
       "    <tr>\n",
       "      <th>9425</th>\n",
       "      <td>An entertaining children's classic I had fun r...</td>\n",
       "      <td>liked it</td>\n",
       "      <td>en</td>\n",
       "      <td>2</td>\n",
       "      <td>0</td>\n",
       "      <td>0.0</td>\n",
       "    </tr>\n",
       "  </tbody>\n",
       "</table>\n",
       "<p>5547 rows × 6 columns</p>\n",
       "</div>"
      ],
      "text/plain": [
       "                                                  review           grade lang  \\\n",
       "5287   I consider this book to be truly wonderful. My...  it was amazing   en   \n",
       "15116  One of the hardest books for me to read, but v...  it was amazing   en   \n",
       "4975   Newsflash: I have a new entry into my Top Ten ...  it was amazing   en   \n",
       "26201  Read years ago, but still remember this powerf...  it was amazing   en   \n",
       "23605  I first read Trainspotting when I was in colle...  it was amazing   en   \n",
       "...                                                  ...             ...  ...   \n",
       "3722   Great easy quick read, liked it a lot.Ackroyd ...        liked it   en   \n",
       "25376  If I had not read Sebald's later inestimable m...        liked it   en   \n",
       "8478   Do not read the Introduction before reading th...        liked it   en   \n",
       "16734  Like his previous book \"The Peron Novel\", quit...        liked it   en   \n",
       "9425   An entertaining children's classic I had fun r...        liked it   en   \n",
       "\n",
       "       score  sentiment  sentiment_polar  \n",
       "5287       4          1              1.0  \n",
       "15116      4          1              1.0  \n",
       "4975       4          1              1.0  \n",
       "26201      4          1              1.0  \n",
       "23605      4          1              1.0  \n",
       "...      ...        ...              ...  \n",
       "3722       2          0              0.0  \n",
       "25376      2          0              0.0  \n",
       "8478       2          0              0.0  \n",
       "16734      2          0              0.0  \n",
       "9425       2          0              0.0  \n",
       "\n",
       "[5547 rows x 6 columns]"
      ]
     },
     "execution_count": 55,
     "metadata": {},
     "output_type": "execute_result"
    }
   ],
   "source": [
    "print(len(df_clean_balance_plr))\n",
    "df_clean_balance_plr"
   ]
  },
  {
   "cell_type": "code",
   "execution_count": 58,
   "metadata": {},
   "outputs": [
    {
     "data": {
      "text/plain": [
       "<matplotlib.axes._subplots.AxesSubplot at 0x7f6fdbe3ae10>"
      ]
     },
     "execution_count": 58,
     "metadata": {},
     "output_type": "execute_result"
    },
    {
     "data": {
      "image/png": "[encoded data removed]",
      "text/plain": [
       "<Figure size 432x288 with 1 Axes>"
      ]
     },
     "metadata": {
      "needs_background": "light"
     },
     "output_type": "display_data"
    }
   ],
   "source": [
    "sn.countplot(df_clean_balance_plr.sentiment_polar)"
   ]
  },
  {
   "cell_type": "code",
   "execution_count": 59,
   "metadata": {},
   "outputs": [],
   "source": [
    "df_clean_balance_plr.to_csv('../DATA/goodreads_reviews_clean_polarized.csv', index=False)"
   ]
  },
  {
   "cell_type": "code",
   "execution_count": null,
   "metadata": {},
   "outputs": [],
   "source": []
  }
 ],
 "metadata": {
  "kernelspec": {
   "display_name": "Python 3.6.9 64-bit",
   "language": "python",
   "name": "python36964bit36b15ce491344c3aaf77177bbb6e80c7"
  },
  "language_info": {
   "codemirror_mode": {
    "name": "ipython",
    "version": 3
   },
   "file_extension": ".py",
   "mimetype": "text/x-python",
   "name": "python",
   "nbconvert_exporter": "python",
   "pygments_lexer": "ipython3",
   "version": "3.6.9"
  }
 },
 "nbformat": 4,
 "nbformat_minor": 2
}
